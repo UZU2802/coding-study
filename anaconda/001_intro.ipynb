{
 "cells": [
  {
   "cell_type": "markdown",
   "id": "71377c56",
   "metadata": {},
   "source": [
    "### 가상환경의 의의\n",
    "- 각종 라이브러리마다 사용할 수 있는 python 버전이 달라요\n",
    "- python 버전을 내가 원하는대로 변경할 수 있기 때문에 사용합니다.\n",
    "- 혹은 다른 라이브러리들과의 호환을 위해 사용합니다.\n",
    "\n",
    "### 명령어 간단 요약\n",
    "\n",
    "| 명령어                                  | 설명               |\n",
    "| --------------------------------------- | ------------------ |\n",
    "| `conda create -n mytest_env python=3.9` | 가상환경 생성      |\n",
    "| `conda activate mytest_env`             | 해당 환경 활성화   |\n",
    "| `conda deactivate`                      | 현재 환경 비활성화 |\n",
    "| `conda remove -n mytest_env --all`      | 가상환경 삭제      |"
   ]
  }
 ],
 "metadata": {
  "kernelspec": {
   "display_name": "practice",
   "language": "python",
   "name": "python3"
  },
  "language_info": {
   "name": "python",
   "version": "3.13.2"
  }
 },
 "nbformat": 4,
 "nbformat_minor": 5
}
