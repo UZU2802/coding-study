{
 "cells": [
  {
   "cell_type": "markdown",
   "id": "71377c56",
   "metadata": {},
   "source": [
    "### 명령어 간단 요약\n",
    "\n",
    "| 명령어                                  | 설명               |\n",
    "| --------------------------------------- | ------------------ |\n",
    "| `conda create -n mytest_env python=3.9` | 가상환경 생성      |\n",
    "| `conda activate mytest_env`             | 해당 환경 활성화   |\n",
    "| `conda deactivate`                      | 현재 환경 비활성화 |\n",
    "| `conda remove -n mytest_env --all`      | 가상환경 삭제      |"
   ]
  }
 ],
 "metadata": {
  "kernelspec": {
   "display_name": "practice",
   "language": "python",
   "name": "python3"
  },
  "language_info": {
   "name": "python",
   "version": "3.13.2"
  }
 },
 "nbformat": 4,
 "nbformat_minor": 5
}
