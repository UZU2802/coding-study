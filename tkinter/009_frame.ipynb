{
 "cells": [
  {
   "cell_type": "code",
   "execution_count": 1,
   "id": "bc600085",
   "metadata": {},
   "outputs": [],
   "source": [
    "import tkinter as tk\n",
    "\n",
    "root = tk.Tk()\n",
    "root.title(\"Frame 예제\")\n",
    "root.geometry(\"400x250\")\n",
    "\n",
    "# Frame 1 (상단 박스)\n",
    "frame_top = tk.Frame(root, bg=\"lightblue\", height=80)\n",
    "frame_top.pack(fill=\"x\")  # 가로 전체 채우기\n",
    "\n",
    "# Frame 2 (하단 박스)\n",
    "frame_bottom = tk.Frame(root, bg=\"lightgreen\")\n",
    "frame_bottom.pack(fill=\"both\", expand=True)\n",
    "\n",
    "# Frame 1 내부에 Label 배치\n",
    "label = tk.Label(frame_top, text=\"프레임 상단 영역\", bg=\"lightblue\", font=(\"Arial\", 12))\n",
    "label.pack(pady=20)\n",
    "\n",
    "# Frame 2 내부에 여러 버튼 배치\n",
    "btn1 = tk.Button(frame_bottom, text=\"버튼1\")\n",
    "btn2 = tk.Button(frame_bottom, text=\"버튼2\")\n",
    "btn3 = tk.Button(frame_bottom, text=\"버튼3\")\n",
    "\n",
    "btn1.pack(side=\"left\", padx=10, pady=20)\n",
    "btn2.pack(side=\"left\", padx=10, pady=20)\n",
    "btn3.pack(side=\"left\", padx=10, pady=20)\n",
    "\n",
    "root.mainloop()"
   ]
  },
  {
   "cell_type": "markdown",
   "id": "8408b525",
   "metadata": {},
   "source": [
    "### Frame이 하는 일\n",
    "| 역할 | 설명 |\n",
    "| -------- | ----------------- |\n",
    "| 구역 나누기 | 한 화면을 상하/좌우 등 구역으로 나눔 (div 같은 느낌) |\n",
    "| 위젯 묶기 | 관련된 위젯들을 그룹으로 묶어서 한 번에 배치 |\n",
    "| 레이아웃 정리 | 여러 pack(), grid() 혼용할 때 안정적인 정렬 가능 |\n",
    "\n",
    "### Frame 안에 자유롭게 배치\n",
    "- 각 Frame은 독립된 배치 컨테이너처럼 사용 가능\n",
    "- 예: `frame.pack()`, `frame2.grid()` 같이 각 프레임마다 다른 배치 관리자 사용 가능\n",
    "\n",
    "### 정리 요약\n",
    "| 요소 | 설명 |\n",
    "| -------- | ----------------- |\n",
    "| tk.Frame(parent) | 위젯을 묶는 구역(컨테이너) 생성 |\n",
    "| pack(), grid() | Frame 자체도 배치 가능 |\n",
    "| Frame 내부 | 다른 위젯들을 넣고 독립적으로 배치 |"
   ]
  }
 ],
 "metadata": {
  "kernelspec": {
   "display_name": "practice",
   "language": "python",
   "name": "python3"
  },
  "language_info": {
   "codemirror_mode": {
    "name": "ipython",
    "version": 3
   },
   "file_extension": ".py",
   "mimetype": "text/x-python",
   "name": "python",
   "nbconvert_exporter": "python",
   "pygments_lexer": "ipython3",
   "version": "3.13.2"
  }
 },
 "nbformat": 4,
 "nbformat_minor": 5
}
