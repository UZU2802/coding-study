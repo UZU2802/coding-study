{
 "cells": [
  {
   "cell_type": "markdown",
   "id": "48013be9",
   "metadata": {},
   "source": [
    "### 1. `Pack()` : 순서대로 쌓는 방식\n",
    "위젯을 위, 아래, 왼쪽, 오른쪽으로 정렬하여 차곡차곡 쌓습니다.\n",
    "\n",
    "#### 기본 사용 방법\n",
    "```python\n",
    "btn = tk.Button(root, text=\"버튼\")\n",
    "btn.pack()\n",
    "```\n",
    "\n",
    "#### 주요 옵션\n",
    "| 옵션 | 설명 |\n",
    "| ----- | ------------------ |\n",
    "| side=\"top\" | 위쪽부터 쌓음 (기본값) |\n",
    "| side=\"left\" | 왼쪽부터 오른쪽으로 쌓음 |\n",
    "| fill=\"x\" | 가로로 꽉 채움 |\n",
    "| fill=\"y\" | 세로로 꽉 채움 |\n",
    "| expand=True | 남는 공간 차지 |\n",
    "| padx, pady | 외부 여백 |\n",
    "| ipadx, ipady | 내부 여백 (위젯 자체 크기 늘림) |"
   ]
  },
  {
   "cell_type": "code",
   "execution_count": 1,
   "id": "5a9ca67e",
   "metadata": {},
   "outputs": [],
   "source": [
    "import tkinter as tk\n",
    "\n",
    "root = tk.Tk()\n",
    "root.title(\"pack() 예제\")\n",
    "root.geometry(\"300x150\")\n",
    "\n",
    "btn1 = tk.Button(root, text=\"왼쪽\")\n",
    "btn2 = tk.Button(root, text=\"가운데\")\n",
    "btn3 = tk.Button(root, text=\"오른쪽\")\n",
    "\n",
    "btn1.pack(side=\"left\", padx=10, pady=20)\n",
    "btn2.pack(side=\"left\", padx=10, pady=20)\n",
    "btn3.pack(side=\"left\", padx=10, pady=20)\n",
    "\n",
    "root.mainloop()"
   ]
  },
  {
   "cell_type": "markdown",
   "id": "40e7f373",
   "metadata": {},
   "source": [
    "### 2. `grid()` : 표처럼 위치 지정\n",
    "행(row), 열(column) 기반의 격자 형태로 위치를 지정합니다.\n",
    "\n",
    "#### 기본 사용 방법\n",
    "```python\n",
    "label = tk.Label(root, text=\"이름\")\n",
    "label.grid(row=0, column=0)\n",
    "\n",
    "entry = tk.Entry(root)\n",
    "entry.grid(row=0, column=1)\n",
    "```\n",
    "\n",
    "#### 주요 옵션\n",
    "| 옵션 | 설명 |\n",
    "| ------ | ------------- |\n",
    "| row, column | 위치 지정 (0부터 시작) |\n",
    "| rowspan, columnspan | 셀 병합 |\n",
    "| sticky=\"nsew\" | 셀 안에서의 정렬 (n=위, s=아래, e=오른쪽, w=왼쪽) |\n",
    "| padx, pady | 셀 바깥 여백 |"
   ]
  },
  {
   "cell_type": "code",
   "execution_count": 2,
   "id": "59fb8599",
   "metadata": {},
   "outputs": [],
   "source": [
    "import tkinter as tk\n",
    "\n",
    "root = tk.Tk()\n",
    "root.title(\"grid() 예제\")\n",
    "root.geometry(\"300x150\")\n",
    "\n",
    "btn1 = tk.Button(root, text=\"(0,0)\")\n",
    "btn2 = tk.Button(root, text=\"(0,1)\")\n",
    "btn3 = tk.Button(root, text=\"(1,0)\")\n",
    "btn4 = tk.Button(root, text=\"(1,1)\")\n",
    "\n",
    "btn1.grid(row=0, column=0, padx=10, pady=10)\n",
    "btn2.grid(row=0, column=1, padx=10, pady=10)\n",
    "btn3.grid(row=1, column=0, padx=10, pady=10)\n",
    "btn4.grid(row=1, column=1, padx=10, pady=10)\n",
    "\n",
    "root.mainloop()"
   ]
  },
  {
   "cell_type": "markdown",
   "id": "7756277f",
   "metadata": {},
   "source": [
    "### 3. `place()` : 정확한 위치 지정\n",
    "픽셀 기준으로 x, y 좌표를 직접 지정해서 배치\n",
    "\n",
    "#### 기본 사용 방법\n",
    "```python\n",
    "btn.place(x=50, y=100)\n",
    "```\n",
    "\n",
    "#### 주요 옵션\n",
    "| 옵션 | 설명 |\n",
    "| ------ | ------------- |\n",
    "| x, y | 절대 위치 (픽셀 단위) |\n",
    "| relx, rely | 상대 위치 (0.0~1.0: 부모 너비/높이 기준) |\n",
    "| anchor | 기준점 (center, n, ne, sw 등) |"
   ]
  },
  {
   "cell_type": "code",
   "execution_count": 3,
   "id": "17f8cc5e",
   "metadata": {},
   "outputs": [],
   "source": [
    "import tkinter as tk\n",
    "\n",
    "root = tk.Tk()\n",
    "root.title(\"place() 예제\")\n",
    "root.geometry(\"300x150\")\n",
    "\n",
    "btn1 = tk.Button(root, text=\"좌상단\")\n",
    "btn2 = tk.Button(root, text=\"중앙\")\n",
    "btn3 = tk.Button(root, text=\"우하단\")\n",
    "\n",
    "btn1.place(x=10, y=10)\n",
    "btn2.place(relx=0.5, rely=0.5, anchor=\"center\")\n",
    "btn3.place(x=230, y=110)\n",
    "\n",
    "root.mainloop()"
   ]
  }
 ],
 "metadata": {
  "kernelspec": {
   "display_name": "practice",
   "language": "python",
   "name": "python3"
  },
  "language_info": {
   "codemirror_mode": {
    "name": "ipython",
    "version": 3
   },
   "file_extension": ".py",
   "mimetype": "text/x-python",
   "name": "python",
   "nbconvert_exporter": "python",
   "pygments_lexer": "ipython3",
   "version": "3.13.2"
  }
 },
 "nbformat": 4,
 "nbformat_minor": 5
}
