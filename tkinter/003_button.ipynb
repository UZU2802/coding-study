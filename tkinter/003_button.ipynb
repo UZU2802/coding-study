{
 "cells": [
  {
   "cell_type": "code",
   "execution_count": 4,
   "id": "e53000cd",
   "metadata": {},
   "outputs": [
    {
     "name": "stdout",
     "output_type": "stream",
     "text": [
      "버튼이 클릭되었습니다!\n",
      "버튼이 클릭되었습니다!\n",
      "버튼이 클릭되었습니다!\n"
     ]
    }
   ],
   "source": [
    "import tkinter as tk\n",
    "\n",
    "# 윈도우 생성\n",
    "root = tk.Tk()\n",
    "root.title(\"Button 위젯 예제\")\n",
    "root.geometry(\"400x200\")\n",
    "\n",
    "# 클릭 이벤트 함수 정의\n",
    "def on_click():\n",
    "    print(\"버튼이 클릭되었습니다!\")\n",
    "    label.config(text=\"버튼 눌림!\")\n",
    "\n",
    "# 라벨: 버튼 클릭 결과를 보여주기 위해 사용\n",
    "label = tk.Label(root, text=\"아직 클릭 전\", font=(\"Arial\", 12))\n",
    "label.pack(pady=10)\n",
    "\n",
    "# 버튼 위젯 생성\n",
    "button = tk.Button(\n",
    "    root,\n",
    "    text=\"클릭하세요\",          # 버튼에 표시될 텍스트\n",
    "    font=(\"Arial\", 14, \"bold\"), # 글꼴 스타일\n",
    "    fg=\"white\",                 # 글자색\n",
    "    bg=\"green\",                 # 배경색\n",
    "    width=15, height=2,         # 버튼 크기 (문자 기준)\n",
    "    relief=\"raised\",            # 테두리 스타일 (flat, raised, sunken, groove, ridge)\n",
    "    bd=3,                       # 테두리 두께\n",
    "    activeforeground=\"yellow\", # 눌렸을 때 글자색\n",
    "    activebackground=\"darkgreen\", # 눌렸을 때 배경색\n",
    "    command=on_click           # 클릭 시 실행할 함수\n",
    ")\n",
    "\n",
    "button.pack(pady=10)\n",
    "\n",
    "root.mainloop()"
   ]
  },
  {
   "cell_type": "markdown",
   "id": "95628847",
   "metadata": {},
   "source": [
    "### 주요 옵션 정리\n",
    "| 옵션 | 설명 |\n",
    "| ----- | ----------- |\n",
    "| text | 표시할 문자열 |\n",
    "| command | 클릭 시 실행할 함수 |\n",
    "| fg, bg | 평상시 글자색 / 배경색 |\n",
    "| activeforeground / activebackground | 눌렀을 때 색상 |\n",
    "| font, width, height | 글꼴 및 크기 |\n",
    "| relief / bd | 테두리 스타일 및 두께 |"
   ]
  },
  {
   "cell_type": "code",
   "execution_count": null,
   "id": "c22b8ed4",
   "metadata": {},
   "outputs": [
    {
     "name": "stdout",
     "output_type": "stream",
     "text": [
      "이미지 버튼이 눌렸습니다!\n",
      "이미지 버튼이 눌렸습니다!\n"
     ]
    }
   ],
   "source": [
    "import tkinter as tk\n",
    "\n",
    "# 메인 창 생성\n",
    "root = tk.Tk()\n",
    "root.title(\"이미지 버튼 예제\")\n",
    "root.geometry(\"300x200\")\n",
    "\n",
    "# 이미지 불러오기 (PhotoImage는 GIF, PNG만 지원)\n",
    "photo = tk.PhotoImage(file=\"C:/dev/코딩스터디/tkinter/images/btn.png\")  # 이미지 파일 경로\n",
    "\n",
    "# 클릭 시 실행할 함수\n",
    "def on_click():\n",
    "    print(\"이미지 버튼이 눌렸습니다!\")\n",
    "\n",
    "# 버튼 생성\n",
    "button = tk.Button(\n",
    "    root,\n",
    "    text=\"눌러봐!\",            # 텍스트도 함께 넣을 수 있음\n",
    "    image=photo,              # 버튼에 이미지 넣기\n",
    "    compound=\"left\",          # 이미지와 텍스트 정렬 (top/left/right/bottom/center)\n",
    "    font=(\"Arial\", 12),\n",
    "    command=on_click\n",
    ")\n",
    "\n",
    "button.pack(pady=20)\n",
    "\n",
    "root.mainloop()"
   ]
  },
  {
   "cell_type": "markdown",
   "id": "61336c8c",
   "metadata": {},
   "source": [
    "### 주요 옵션 정리\n",
    "| 옵션 | 설명 |\n",
    "| ----- | ----------- |\n",
    "| image=PhotoImage객체 | 버튼에 이미지 표시 |\n",
    "| compound=\"left\" | 이미지 + 텍스트 함께 보일 때 정렬 방향 |\n",
    "| text=\"\" | 텍스트 제거하고 순수 이미지 버튼도 가능 |"
   ]
  }
 ],
 "metadata": {
  "kernelspec": {
   "display_name": "practice",
   "language": "python",
   "name": "python3"
  },
  "language_info": {
   "codemirror_mode": {
    "name": "ipython",
    "version": 3
   },
   "file_extension": ".py",
   "mimetype": "text/x-python",
   "name": "python",
   "nbconvert_exporter": "python",
   "pygments_lexer": "ipython3",
   "version": "3.13.2"
  }
 },
 "nbformat": 4,
 "nbformat_minor": 5
}
