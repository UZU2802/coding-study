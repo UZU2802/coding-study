{
 "cells": [
  {
   "cell_type": "code",
   "execution_count": null,
   "id": "6b38352d",
   "metadata": {},
   "outputs": [],
   "source": [
    "import tkinter as tk\n",
    "\n",
    "root = tk.Tk()\n",
    "root.title(\"Checkbutton 예제\")\n",
    "root.geometry(\"300x200\")\n",
    "\n",
    "# 체크 상태를 저장할 변수 (BooleanVar)\n",
    "is_checked = tk.BooleanVar()\n",
    "\n",
    "# 체크박스 위젯 생성\n",
    "check = tk.Checkbutton(\n",
    "    root,\n",
    "    text=\"나는 동의합니다.\",\n",
    "    variable=is_checked,           # 체크 여부를 여기에 저장\n",
    "    font=(\"Arial\", 12),\n",
    "    onvalue=True, offvalue=False   # 체크/해제 상태값 설정 (기본값임)\n",
    ")\n",
    "check.pack(pady=10)\n",
    "\n",
    "# 버튼 클릭 시 체크 여부 출력\n",
    "def show_check():\n",
    "    if is_checked.get():\n",
    "        label.config(text=\"체크됨\")\n",
    "    else:\n",
    "        label.config(text=\"체크 안 됨\")\n",
    "\n",
    "btn = tk.Button(root, text=\"확인\", command=show_check)\n",
    "btn.pack()\n",
    "\n",
    "# 결과 표시용 라벨\n",
    "label = tk.Label(root, text=\"체크 상태를 확인하세요\", font=(\"Arial\", 10))\n",
    "label.pack(pady=10)\n",
    "\n",
    "root.mainloop()"
   ]
  },
  {
   "cell_type": "markdown",
   "id": "5df8e7bf",
   "metadata": {},
   "source": [
    "### 주요 옵션 정리\n",
    "| 요소 | 설명 |\n",
    "| -------- | ---------------- |\n",
    "| Checkbutton | 체크박스 위젯 생성 |\n",
    "| variable=BooleanVar() | 체크 상태 저장 변수 (on=True / off=False) |\n",
    "| get() | 체크 여부 읽기 |\n",
    "| set(True) | 체크 강제로 설정 가능 |\n",
    "| onvalue, offvalue | 선택 시 값 지정 (True/False, 1/0, \"예\"/\"아니오\" 등 가능) |"
   ]
  }
 ],
 "metadata": {
  "kernelspec": {
   "display_name": "practice",
   "language": "python",
   "name": "python3"
  },
  "language_info": {
   "codemirror_mode": {
    "name": "ipython",
    "version": 3
   },
   "file_extension": ".py",
   "mimetype": "text/x-python",
   "name": "python",
   "nbconvert_exporter": "python",
   "pygments_lexer": "ipython3",
   "version": "3.13.2"
  }
 },
 "nbformat": 4,
 "nbformat_minor": 5
}
