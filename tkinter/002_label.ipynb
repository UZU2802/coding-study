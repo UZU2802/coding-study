{
 "cells": [
  {
   "cell_type": "code",
   "execution_count": 1,
   "id": "c22e7e32",
   "metadata": {},
   "outputs": [],
   "source": [
    "import tkinter as tk\n",
    "\n",
    "# 메인 윈도우 생성\n",
    "root = tk.Tk()\n",
    "root.title(\"Label 위젯 전체 옵션 예제\")\n",
    "root.geometry(\"400x200\")  # 창 크기\n",
    "\n",
    "# Label 위젯 생성\n",
    "label = tk.Label(\n",
    "    root,\n",
    "    text=\"안녕하세요, Tkinter!\",     # 표시할 텍스트\n",
    "    font=(\"Arial\", 16, \"bold\"),      # 폰트: Arial, 크기: 16, 스타일: bold\n",
    "    fg=\"white\",                      # 글자색 (foreground)\n",
    "    bg=\"darkblue\",                   # 배경색 (background)\n",
    "    width=25,                        # 텍스트 박스 너비 (문자 수 기준)\n",
    "    height=3,                        # 텍스트 박스 높이 (줄 수 기준)\n",
    "    padx=10,                         # 내부 좌우 여백\n",
    "    pady=5,                          # 내부 상하 여백\n",
    "    anchor=\"center\",                # 텍스트 정렬 (center, n, s, e, w 등)\n",
    "    relief=\"ridge\",                  # 테두리 스타일 (flat, groove, raised, ridge, solid, sunken)\n",
    "    bd=3                             # 테두리 두께 (borderwidth)\n",
    ")\n",
    "\n",
    "# Label을 배치\n",
    "label.pack(pady=30)\n",
    "\n",
    "# 이벤트 루프 실행\n",
    "root.mainloop()"
   ]
  },
  {
   "cell_type": "markdown",
   "id": "92393b07",
   "metadata": {},
   "source": [
    "### 주요 옵션 정리\n",
    "| 옵션 | 설명 |\n",
    "| ----- | ----------- |\n",
    "| text | 표시할 문자열 |\n",
    "| font=(\"글꼴\", 크기, \"스타일\") | 글꼴 스타일 지정 (스타일: bold, italic, underline ...) |\n",
    "| fg, bg | 글자색, 배경색 |\n",
    "| width / height | 텍스트 박스의 너비, 높이 (문자/줄 기준) |\n",
    "| padx, pady | 안쪽 여백 |\n",
    "| anchor | 텍스트 정렬 (N(상), S(하), E(우), W(좌좌) 등) |\n",
    "| relief / bd | 테두리 스타일 및 두께 |"
   ]
  }
 ],
 "metadata": {
  "kernelspec": {
   "display_name": "practice",
   "language": "python",
   "name": "python3"
  },
  "language_info": {
   "codemirror_mode": {
    "name": "ipython",
    "version": 3
   },
   "file_extension": ".py",
   "mimetype": "text/x-python",
   "name": "python",
   "nbconvert_exporter": "python",
   "pygments_lexer": "ipython3",
   "version": "3.13.2"
  }
 },
 "nbformat": 4,
 "nbformat_minor": 5
}
