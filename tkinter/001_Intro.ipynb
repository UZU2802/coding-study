{
 "cells": [
  {
   "cell_type": "markdown",
   "id": "466687ec",
   "metadata": {},
   "source": [
    "### 1. Tkinter란?\n",
    "- Python 표준 라이브러리에 포함된 Tcl/Tk GUI 툴킷을 위한 공식 인터페이스입니다.\n",
    "- Tk와 tkinter는 대부분 유닉스 기반 플랫폼(macOS, Linux 등)과 Windows 시스템에서 사용할 수 있습니다.\n",
    "- Tkinter 설치 확인 명령어는 `python -m tkinter`입니다."
   ]
  },
  {
   "cell_type": "markdown",
   "id": "c35ec062",
   "metadata": {},
   "source": [
    "### 2. Tkinter의 기본 구조"
   ]
  },
  {
   "cell_type": "code",
   "execution_count": 9,
   "id": "8e5715ec",
   "metadata": {},
   "outputs": [],
   "source": [
    "from tkinter import *  # tkinter 모듈을 불러온다.\n",
    "# 혹은\n",
    "import tkinter as tk  # tkinter를 tk라는 이름으로 불러온다.\n",
    "\n",
    "# 1. 메인 윈도우 창 생성\n",
    "root = tk.Tk()\n",
    "\n",
    "# 2. 윈도우 창의 제목 설정\n",
    "root.title(\"나의 첫 GUI\")\n",
    "\n",
    "# 3. 창 크기 설정 (픽셀 단위: 가로x세로)\n",
    "root.geometry(\"300x200\")\n",
    "\n",
    "# 4. GUI 요소 추가 (예: 버튼)\n",
    "btn = tk.Button(root, text=\"클릭하세요!\")\n",
    "btn.pack()  # 화면에 보이도록 배치 (기본 수직 방향)\n",
    "\n",
    "# 5.GUI를 계속 실행 상태로 유지 (없으면 창이 바로 닫힘)\n",
    "root.mainloop()"
   ]
  },
  {
   "cell_type": "markdown",
   "id": "cc8f60af",
   "metadata": {},
   "source": [
    "### 3. 구조 이해하기\n",
    "\n",
    "| 구성 요소 | 설명 |\n",
    "| ----------- | -------------|\n",
    "| Tcl | \tPython 내부에서 사용하는 스크립트 언어 인터프리터입니다. Tk GUI 시스템의 기반이 되며, 명령어 처리 및 이벤트 루프 관리에 사용됩니다. |\n",
    "| Tk | Tcl 언어 위에 구현된 GUI 위젯 시스템입니다. 버튼, 라벨, 텍스트 박스 등 기본 사용자 인터페이스 구성 요소(UI 컴포넌트)를 제공합니다. |\n",
    "| Ttk | Tk 8.5 이상부터 지원되는 모던한 스타일의 GUI 컴포넌트 집합입니다. 운영체제별 네이티브한 디자인을 적용할 수 있으며, tkinter.ttk 모듈에서 사용합니다. |\n",
    "| _tkinter | Python과 Tcl/Tk를 연결하는 C 언어 기반의 내부 모듈입니다. tkinter가 내부적으로 Tcl 명령어를 전달할 때 사용되며, 사용자가 직접 다루지 않습니다. |\n",
    "| tkinter | Python 개발자가 사용하는 공식 GUI 모듈입니다. Tk와 Ttk 위젯을 Python 문법으로 제어할 수 있도록 감싸는 상위 인터페이스입니다. (import tkinter로 사용) |"
   ]
  }
 ],
 "metadata": {
  "kernelspec": {
   "display_name": "practice",
   "language": "python",
   "name": "python3"
  },
  "language_info": {
   "codemirror_mode": {
    "name": "ipython",
    "version": 3
   },
   "file_extension": ".py",
   "mimetype": "text/x-python",
   "name": "python",
   "nbconvert_exporter": "python",
   "pygments_lexer": "ipython3",
   "version": "3.13.2"
  }
 },
 "nbformat": 4,
 "nbformat_minor": 5
}
