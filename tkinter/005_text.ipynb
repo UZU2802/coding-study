{
 "cells": [
  {
   "cell_type": "code",
   "execution_count": 1,
   "id": "fbc87982",
   "metadata": {},
   "outputs": [],
   "source": [
    "import tkinter as tk\n",
    "\n",
    "root = tk.Tk()\n",
    "root.title(\"Text 입력창 예제\")\n",
    "root.geometry(\"500x300\")\n",
    "\n",
    "# 입력된 텍스트를 가져오는 함수\n",
    "def show_text():\n",
    "    content = text.get(\"1.0\", tk.END)  # \"1.0\"은 첫 줄 첫 글자, END는 끝까지\n",
    "    label.config(text=f\"입력된 내용:\\n{content.strip()}\") # strip()으로 앞뒤 공백 제거\n",
    "\n",
    "# Text 위젯 (여러 줄 입력창)\n",
    "text = tk.Text(\n",
    "    root,\n",
    "    width=40,\n",
    "    height=8,\n",
    "    font=(\"Arial\", 12),\n",
    "    fg=\"black\",\n",
    "    bg=\"lightyellow\",\n",
    "    relief=\"sunken\",\n",
    "    bd=2\n",
    ")\n",
    "text.pack(pady=10)\n",
    "\n",
    "# 출력용 라벨\n",
    "label = tk.Label(root, text=\"입력된 내용이 여기에 표시됩니다\", font=(\"Arial\", 10))\n",
    "label.pack()\n",
    "\n",
    "# 버튼\n",
    "btn = tk.Button(root, text=\"확인\", command=show_text)\n",
    "btn.pack(pady=10)\n",
    "\n",
    "root.mainloop()"
   ]
  },
  {
   "cell_type": "markdown",
   "id": "8a7089b6",
   "metadata": {},
   "source": [
    "### 주요 옵션 정리\n",
    "| 메서드/옵션 | 설명 |\n",
    "| ------ | --------------- |\n",
    "| text.get(\"1.0\", END) | 입력된 텍스트 읽기 (1.0 = 1행 0열부터) |\n",
    "| text.insert(\"1.0\", \"기본값\") | 텍스트 삽입 |\n",
    "| text.delete(\"1.0\", END) | 텍스트 삭제 |\n",
    "| width, height | 입력창 너비/높이 (문자/줄 기준) |\n",
    "| font, fg, bg, relief, bd | 스타일 설정 가능 |\n",
    "\n",
    "### entry vs text\n",
    "| 항목 | Entry | Text |\n",
    "| ------ | ------ | ------ |\n",
    "| 줄 수 | 한 줄 | 여러 줄 |\n",
    "| 용도 | 이름, 이메일 등 | 메모, 설명, 채팅 등 |\n",
    "| get() 방식 | entry.get() | text.get(\"1.0\", END) |"
   ]
  }
 ],
 "metadata": {
  "kernelspec": {
   "display_name": "practice",
   "language": "python",
   "name": "python3"
  },
  "language_info": {
   "codemirror_mode": {
    "name": "ipython",
    "version": 3
   },
   "file_extension": ".py",
   "mimetype": "text/x-python",
   "name": "python",
   "nbconvert_exporter": "python",
   "pygments_lexer": "ipython3",
   "version": "3.13.2"
  }
 },
 "nbformat": 4,
 "nbformat_minor": 5
}
