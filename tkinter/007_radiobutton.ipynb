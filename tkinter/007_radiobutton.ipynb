{
 "cells": [
  {
   "cell_type": "code",
   "execution_count": 2,
   "id": "e4ea7ae1",
   "metadata": {},
   "outputs": [],
   "source": [
    "import tkinter as tk\n",
    "\n",
    "root = tk.Tk()\n",
    "root.title(\"Radiobutton 예제\")\n",
    "root.geometry(\"300x250\")\n",
    "\n",
    "# 선택된 값을 저장할 변수 (문자열 or 정수 가능)\n",
    "# StringVar(): 라디오 버튼처럼 사용자가 선택한 값을 위젯이 실시간으로 저장해야 할 때, 변수 = 값 형태로는 Tkinter 내부에서 추적이 불가능하기 때문에 사용\n",
    "selected_option = tk.StringVar()\n",
    "selected_option.set(\"Python\")  # 기본 선택값\n",
    "\n",
    "# 선택 결과 표시용 함수\n",
    "def show_selection():\n",
    "    label.config(text=f\"선택된 언어: {selected_option.get()}\")\n",
    "\n",
    "# 라디오 버튼 3개 생성\n",
    "langs = [\"Python\", \"Java\", \"C++\"]\n",
    "\n",
    "for lang in langs:\n",
    "    rb = tk.Radiobutton(\n",
    "        root,\n",
    "        text=lang,              # 표시할 텍스트\n",
    "        variable=selected_option,  # 공통 변수 사용 → 단일 선택 가능\n",
    "        value=lang,             # 선택되었을 때 저장되는 값\n",
    "        font=(\"Arial\", 12)\n",
    "    )\n",
    "    rb.pack(anchor=\"w\")  # 왼쪽 정렬\n",
    "\n",
    "# 확인 버튼\n",
    "btn = tk.Button(root, text=\"선택 확인\", command=show_selection)\n",
    "btn.pack(pady=10)\n",
    "\n",
    "# 결과 출력용 라벨\n",
    "label = tk.Label(root, text=\"선택된 언어가 여기에 표시됩니다\")\n",
    "label.pack()\n",
    "\n",
    "root.mainloop()"
   ]
  },
  {
   "cell_type": "markdown",
   "id": "e9390677",
   "metadata": {},
   "source": [
    "### 주요 옵션 정리\n",
    "| 항목 | 설명 |\n",
    "| --------- | ----------------- |\n",
    "| Radiobutton | 여러 개 중 하나 선택할 때 사용 |\n",
    "| variable=공통 변수 | 라디오 버튼들끼리 묶는 역할 |\n",
    "| value=\"...\" | 선택 시 저장되는 값 |\n",
    "| variable.get() | 선택된 값 확인 |\n",
    "| variable.set(\"값\") | 값 강제로 선택 |"
   ]
  }
 ],
 "metadata": {
  "kernelspec": {
   "display_name": "practice",
   "language": "python",
   "name": "python3"
  },
  "language_info": {
   "codemirror_mode": {
    "name": "ipython",
    "version": 3
   },
   "file_extension": ".py",
   "mimetype": "text/x-python",
   "name": "python",
   "nbconvert_exporter": "python",
   "pygments_lexer": "ipython3",
   "version": "3.13.2"
  }
 },
 "nbformat": 4,
 "nbformat_minor": 5
}
