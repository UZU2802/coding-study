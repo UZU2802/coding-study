{
 "cells": [
  {
   "cell_type": "code",
   "execution_count": 1,
   "id": "30683a8c",
   "metadata": {},
   "outputs": [],
   "source": [
    "import tkinter as tk\n",
    "\n",
    "root = tk.Tk()\n",
    "root.title(\"Listbox 예제\")\n",
    "root.geometry(\"300x250\")\n",
    "\n",
    "# Listbox 생성\n",
    "listbox = tk.Listbox(\n",
    "    root,\n",
    "    height=5,            # 보이는 항목 수\n",
    "    selectmode=\"single\", # 선택 방식: \"single\" or \"multiple\"\n",
    "    font=(\"Arial\", 12)\n",
    ")\n",
    "listbox.pack(pady=10)\n",
    "\n",
    "# 항목 추가\n",
    "fruits = [\"사과\", \"바나나\", \"포도\", \"딸기\", \"수박\"]\n",
    "for fruit in fruits:\n",
    "    listbox.insert(tk.END, fruit)  # 맨 끝에 추가\n",
    "\n",
    "# 버튼 클릭 시 선택값 출력\n",
    "def show_selection():\n",
    "    selected_idx = listbox.curselection()  # 선택된 인덱스 (튜플)\n",
    "    if selected_idx:\n",
    "        value = listbox.get(selected_idx[0])  # 선택된 항목의 텍스트\n",
    "        label.config(text=f\"선택한 과일: {value}\")\n",
    "    else:\n",
    "        label.config(text=\"선택된 항목 없음\")\n",
    "\n",
    "btn = tk.Button(root, text=\"선택 확인\", command=show_selection)\n",
    "btn.pack()\n",
    "\n",
    "label = tk.Label(root, text=\"결과가 여기에 표시됩니다\", font=(\"Arial\", 10))\n",
    "label.pack(pady=10)\n",
    "\n",
    "root.mainloop()"
   ]
  },
  {
   "cell_type": "markdown",
   "id": "67562d65",
   "metadata": {},
   "source": [
    "### 주요 메서드 정리\n",
    "| 메서드 | 설명 | \n",
    "| ---------- | ---------------- |\n",
    "| insert(index, 값) | 항목 추가 (tk.END = 맨 끝) | \n",
    "| get(index) | 해당 인덱스 항목 반환 | \n",
    "| curselection() | 선택된 항목의 인덱스 목록(튜플) | \n",
    "| delete(index) | 항목 삭제 | \n",
    "| size() | 총 항목 개수 | \n",
    "| select_set(index) | 항목 선택 설정 (강제 선택) | \n",
    "\n",
    "### 선택 모드 종류\n",
    "| selectmode 값 | 설명 | \n",
    "| ---------- | ---------------- |\n",
    "| \"single\" | 하나만 선택 가능 (기본값) | \n",
    "| \"browse\" | 마우스 드래그로 변경 가능 | \n",
    "| \"multiple\" | Ctrl 클릭으로 다중 선택 | \n",
    "| \"extended\" | Shift + 클릭 or Ctrl로 다중 선택 가능 | "
   ]
  }
 ],
 "metadata": {
  "kernelspec": {
   "display_name": "practice",
   "language": "python",
   "name": "python3"
  },
  "language_info": {
   "codemirror_mode": {
    "name": "ipython",
    "version": 3
   },
   "file_extension": ".py",
   "mimetype": "text/x-python",
   "name": "python",
   "nbconvert_exporter": "python",
   "pygments_lexer": "ipython3",
   "version": "3.13.2"
  }
 },
 "nbformat": 4,
 "nbformat_minor": 5
}
