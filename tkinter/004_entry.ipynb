{
 "cells": [
  {
   "cell_type": "code",
   "execution_count": 1,
   "id": "5543a4fa",
   "metadata": {},
   "outputs": [],
   "source": [
    "import tkinter as tk\n",
    "\n",
    "root = tk.Tk()\n",
    "root.title(\"Entry 입력창 예제\")\n",
    "root.geometry(\"400x200\")\n",
    "\n",
    "# 입력 후 클릭 시 출력되는 함수\n",
    "def show_input():\n",
    "    user_input = entry.get()             # Entry에 입력된 값 가져오기\n",
    "    label.config(text=f\"입력값: {user_input}\")\n",
    "\n",
    "# Entry 위젯 (한 줄 입력창)\n",
    "entry = tk.Entry(\n",
    "    root,\n",
    "    width=30,                # 너비 (문자 수 기준)\n",
    "    font=(\"Arial\", 14),      # 글꼴\n",
    "    fg=\"black\",              # 글자색\n",
    "    bg=\"lightyellow\",        # 배경색\n",
    "    justify=\"left\",          # 입력 텍스트 정렬 (left, center, right)\n",
    "    relief=\"sunken\",         # 테두리 스타일\n",
    "    bd=2                     # 테두리 두께\n",
    ")\n",
    "entry.pack(pady=10)\n",
    "\n",
    "# 출력용 라벨\n",
    "label = tk.Label(root, text=\"입력값을 여기에 표시\", font=(\"Arial\", 12))\n",
    "label.pack(pady=5)\n",
    "\n",
    "# 버튼 클릭 시 입력값 출력\n",
    "button = tk.Button(root, text=\"입력 확인\", command=show_input)\n",
    "button.pack(pady=5)\n",
    "\n",
    "root.mainloop()\n"
   ]
  },
  {
   "cell_type": "markdown",
   "id": "b0a529dd",
   "metadata": {},
   "source": [
    "### 주요 옵션 설명\n",
    "| 메서드/옵션 | 설명 |\n",
    "| --------- | ------------ |\n",
    "| .config() | 위젯 속성(text, fg 등)을 동적으로 변경할 때 사용 |\n",
    "| entry.get() | 입력된 텍스트 읽기 |\n",
    "| entry.insert(0, \"기본값\") | 기본 텍스트 삽입 |\n",
    "| entry.delete(0, END) | 전체 텍스트 삭제 |\n",
    "| width | 입력창의 너비 (문자 수 기준) |\n",
    "| justify | 텍스트 정렬 (left, center, right) |\n",
    "| font, fg, bg, relief, bd | 스타일 관련 옵션 |"
   ]
  }
 ],
 "metadata": {
  "kernelspec": {
   "display_name": "practice",
   "language": "python",
   "name": "python3"
  },
  "language_info": {
   "codemirror_mode": {
    "name": "ipython",
    "version": 3
   },
   "file_extension": ".py",
   "mimetype": "text/x-python",
   "name": "python",
   "nbconvert_exporter": "python",
   "pygments_lexer": "ipython3",
   "version": "3.13.2"
  }
 },
 "nbformat": 4,
 "nbformat_minor": 5
}
