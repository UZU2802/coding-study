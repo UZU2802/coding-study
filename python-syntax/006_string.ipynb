{
 "cells": [
  {
   "cell_type": "code",
   "execution_count": null,
   "id": "9881b4d1",
   "metadata": {},
   "outputs": [],
   "source": [
    "# 문자열(str)은 문자의 시퀀스(순서 있는 집합)입니다.\n",
    "# 작은 따옴표('') 또는 큰 따옴표(\"\")로 묶어 만듭니다.\n",
    "\n",
    "text = 'Hello, Python!'\n",
    "print(text)  # Hello, Python!\n",
    "\n",
    "# 문자열은 인덱스로 개별 문자에 접근할 수 있습니다.\n",
    "print(text[0])   # 'H'\n",
    "print(text[-1])  # '!' (뒤에서 첫 번째)\n",
    "\n",
    "# 문자열 슬라이싱\n",
    "print(text[0:5])  # 'Hello'\n",
    "print(text[7:])   # 'Python!'\n",
    "\n",
    "# 문자열 길이 구하기: len()\n",
    "print(len(text))  # 14\n",
    "\n",
    "# 문자열 합치기: +\n",
    "greeting = '안녕' + '하세요'\n",
    "print(greeting)  # '안녕하세요'\n",
    "\n",
    "# 문자열 반복: *\n",
    "print('Hi! ' * 3)  # 'Hi! Hi! Hi! '\n",
    "\n",
    "# 특정 문자 포함 여부 확인: in\n",
    "print('Python' in text)  # True\n",
    "\n",
    "# 문자열 바꾸기: replace()\n",
    "print(text.replace('Python', 'World'))  # 'Hello, World!'\n",
    "\n",
    "# 문자열 나누기: split()\n",
    "words = text.split(', ')\n",
    "print(words)  # ['Hello', 'Python!']\n",
    "\n",
    "# 문자열 합치기: join()\n",
    "joined = '-'.join(['2025', '04', '17'])\n",
    "print(joined)  # '2025-04-17'\n",
    "\n",
    "# 양쪽 공백 제거: strip()\n",
    "msg = '  hello  '\n",
    "print(msg.strip())  # 'hello'\n",
    "\n",
    "# 대소문자 변환: upper(), lower()\n",
    "print(text.upper())  # 'HELLO, PYTHON!'\n",
    "print(text.lower())  # 'hello, python!'\n",
    "\n",
    "# 문자열 포맷팅\n",
    "name = '유주'\n",
    "age = 22\n",
    "print(f'{name}의 나이는 {age}살입니다.')  # f-string 사용"
   ]
  }
 ],
 "metadata": {
  "kernelspec": {
   "display_name": "practice",
   "language": "python",
   "name": "python3"
  },
  "language_info": {
   "name": "python",
   "version": "3.13.2"
  }
 },
 "nbformat": 4,
 "nbformat_minor": 5
}
