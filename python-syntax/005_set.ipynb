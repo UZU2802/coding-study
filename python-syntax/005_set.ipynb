{
 "cells": [
  {
   "cell_type": "code",
   "execution_count": null,
   "id": "817fb8b1",
   "metadata": {},
   "outputs": [],
   "source": [
    "# 세트(set)는 중복되지 않는 값을 저장하는 집합 자료형입니다.\n",
    "# 순서가 없고, 인덱싱이 불가능합니다.\n",
    "# 중괄호 {} 또는 set() 생성자를 사용합니다.\n",
    "\n",
    "fruit_set = {'사과', '바나나', '멜론'}\n",
    "print(fruit_set)  # {'사과', '바나나', '멜론'} (순서는 랜덤하게 출력됨)\n",
    "\n",
    "# set() 생성자를 이용한 세트 생성\n",
    "empty_set = set()  # 빈 세트는 반드시 set() 사용 ({}는 딕셔너리)\n",
    "print(type(empty_set))  # <class 'set'>\n",
    "\n",
    "# 세트에 요소 추가: add()\n",
    "fruit_set.add('포도')\n",
    "print(fruit_set)  # {'사과', '바나나', '멜론', '포도'}\n",
    "\n",
    "# 중복 요소는 자동으로 제거됨\n",
    "fruit_set.add('바나나')\n",
    "print(fruit_set)  # 여전히 {'사과', '바나나', '멜론', '포도'}\n",
    "\n",
    "# 요소 삭제: remove() → 없는 요소 삭제 시 에러 발생\n",
    "fruit_set.remove('사과')\n",
    "print(fruit_set)  # {'바나나', '멜론', '포도'}\n",
    "\n",
    "# 요소 삭제: discard() → 없는 요소 삭제해도 에러 없음\n",
    "fruit_set.discard('딸기')  # 에러 없음\n",
    "\n",
    "# 임의의 요소 하나 제거: pop()\n",
    "fruit_set.pop()  # 어떤 요소가 제거될지 알 수 없음\n",
    "\n",
    "# 모든 요소 제거: clear()\n",
    "fruit_set.clear()\n",
    "print(fruit_set)  # set()\n",
    "\n",
    "# 두 세트 간 연산\n",
    "set1 = {'사과', '바나나', '수박'}\n",
    "set2 = {'바나나', '포도', '수박'}\n",
    "\n",
    "# 교집합\n",
    "print(set1 & set2)  # {'바나나', '수박'}\n",
    "print(set1.intersection(set2))  # 동일\n",
    "\n",
    "# 합집합\n",
    "print(set1 | set2)  # {'사과', '바나나', '포도', '수박'}\n",
    "print(set1.union(set2))  # 동일\n",
    "\n",
    "# 차집합\n",
    "print(set1 - set2)  # {'사과'}\n",
    "print(set1.difference(set2))  # 동일"
   ]
  }
 ],
 "metadata": {
  "kernelspec": {
   "display_name": "practice",
   "language": "python",
   "name": "python3"
  },
  "language_info": {
   "name": "python",
   "version": "3.13.2"
  }
 },
 "nbformat": 4,
 "nbformat_minor": 5
}
