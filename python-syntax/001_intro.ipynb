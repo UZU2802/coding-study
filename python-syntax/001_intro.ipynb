{
 "cells": [
  {
   "cell_type": "code",
   "execution_count": 6,
   "id": "10ce530f",
   "metadata": {},
   "outputs": [
    {
     "name": "stdout",
     "output_type": "stream",
     "text": [
      "<class 'str'>\n",
      "2\n"
     ]
    }
   ],
   "source": [
    "s = input('숫자를 입력하여 주세요.')\n",
    "print(type(s))\n",
    "\n",
    "print(int(s) + 1)"
   ]
  },
  {
   "cell_type": "code",
   "execution_count": null,
   "id": "c73db183",
   "metadata": {},
   "outputs": [
    {
     "name": "stdout",
     "output_type": "stream",
     "text": [
      "안녕하세요 저는 장유주 입니다\n",
      "안녕하세요 저는 장유주입니다.\n"
     ]
    }
   ],
   "source": [
    "name = input('이름')\n",
    "\n",
    "print(\"안녕하세요 저는\", name, \"입니다\")\n",
    "print(f\"안녕하세요 저는 {name}입니다.\")"
   ]
  },
  {
   "cell_type": "code",
   "execution_count": 11,
   "id": "e11bc0dc",
   "metadata": {},
   "outputs": [
    {
     "name": "stdout",
     "output_type": "stream",
     "text": [
      "nohtyp\n"
     ]
    }
   ],
   "source": [
    "text = 'python'\n",
    "\n",
    "print(text[::-1])"
   ]
  },
  {
   "cell_type": "code",
   "execution_count": null,
   "id": "a3a78d4d",
   "metadata": {},
   "outputs": [
    {
     "name": "stdout",
     "output_type": "stream",
     "text": [
      "사과 \n",
      " 멜론\n"
     ]
    }
   ],
   "source": [
    "# 대문자\n",
    "# text = 'python'\n",
    "# print(text.upper())\n",
    "\n",
    "# # 소문자\n",
    "# text = 'PYTHON'\n",
    "# print(text.lower())\n",
    "\n",
    "# email = 'Jyuju040802@gmail.com'\n",
    "# print(email.lower())\n",
    "\n",
    "# s = 'a,b,c'\n",
    "# print(s.split(','))\n",
    "\n",
    "# fruit = input('과일을 입력하여 주세요.')\n",
    "# fruits = fruit.split(',')\n",
    "# print(f\"첫 번째 과일은 {fruits[0]}\")\n",
    "\n",
    "fruit = input('과일을 입력하여 주세요.')\n",
    "fruit2 = input('과일을 입력하여 주세요.')\n",
    "print(fruit, '\\n', fruit2)"
   ]
  },
  {
   "cell_type": "code",
   "execution_count": null,
   "id": "7901dbac",
   "metadata": {},
   "outputs": [
    {
     "name": "stdout",
     "output_type": "stream",
     "text": [
      "유아\n"
     ]
    }
   ],
   "source": [
    "age = int(input('나이 입력'))\n",
    "\n",
    "if age < 8:\n",
    "    print('유아')\n",
    "elif age < 14:\n",
    "    print('유아')\n",
    "else:\n",
    "    print('어쩌구')"
   ]
  },
  {
   "cell_type": "code",
   "execution_count": 27,
   "id": "be31a36e",
   "metadata": {},
   "outputs": [
    {
     "name": "stdout",
     "output_type": "stream",
     "text": [
      "apple\n",
      "banana\n",
      "orange\n",
      "0\n",
      "1\n",
      "2\n",
      "3\n",
      "4\n",
      "1\n",
      "3\n",
      "5\n",
      "7\n",
      "9\n"
     ]
    }
   ],
   "source": [
    "fruits = ['apple', 'banana', 'orange']\n",
    "\n",
    "# 순서가 있어서 사용할 수 있음\n",
    "for fruit in fruits:\n",
    "    print(fruit)\n",
    "    # 첫 번째 반복 : apple\n",
    "    # 두 번째 반복 : banana\n",
    "    # 세 번째 반복 : orange\n",
    "\n",
    "for i in range(5):\n",
    "    print(i)\n",
    "\n",
    "for i in range(1, 10, 2):\n",
    "    print(i)\n",
    "    # 1, 3, 5, 7, 9"
   ]
  },
  {
   "cell_type": "code",
   "execution_count": null,
   "id": "3a03b5dc",
   "metadata": {},
   "outputs": [],
   "source": [
    "# for문은 시퀀스 내부에 있는 요소들을 하나씩 사용하고 싶을 때\n",
    "# while문은 조건 있을 때"
   ]
  },
  {
   "cell_type": "code",
   "execution_count": null,
   "id": "b660a0b2",
   "metadata": {},
   "outputs": [
    {
     "name": "stdout",
     "output_type": "stream",
     "text": [
      "['apple', 'banana', 'cherry', 'melon']\n",
      "['apple', 'melon', 'banana', 'cherry', 'melon']\n",
      "['apple', 'melon', 'banana', 'cherry']\n",
      "['apple', 'banana', 'cherry']\n",
      "['apple', 'banana', 'cherry']\n",
      "['cherry', 'banana', 'apple']\n"
     ]
    }
   ],
   "source": [
    "# 리스트 메서드\n",
    "\n",
    "# 리스트\n",
    "fruits = [\"apple\", \"banana\", \"cherry\"]\n",
    "\n",
    "# 맨 뒤에 추가\n",
    "fruits.append('melon')\n",
    "print(fruits)\n",
    "\n",
    "# 특정 인덱스에 요소 추가\n",
    "fruits.insert(1, 'melon')\n",
    "print(fruits)\n",
    "\n",
    "# 맨 뒤에 삭제\n",
    "fruits.pop()\n",
    "print(fruits)\n",
    "\n",
    "# 특정 값 삭제\n",
    "fruits.remove('melon')\n",
    "print(fruits)\n",
    "\n",
    "# 순서대로\n",
    "fruits.sort()\n",
    "print(fruits)\n",
    "\n",
    "# 역순\n",
    "fruits.reverse()\n",
    "print(fruits)"
   ]
  },
  {
   "cell_type": "code",
   "execution_count": null,
   "id": "f126635c",
   "metadata": {},
   "outputs": [],
   "source": [
    "# 튜플\n",
    "# 리스트보다 훨씬 빨라...\n",
    "# 많은 데이터량을 처리하기 위해서 사용한대\n",
    "\n",
    "location = (37.5665, 126.9780)"
   ]
  },
  {
   "cell_type": "code",
   "execution_count": 33,
   "id": "1d2d71eb",
   "metadata": {},
   "outputs": [
    {
     "name": "stdout",
     "output_type": "stream",
     "text": [
      "dict_keys(['name', 'age'])\n",
      "dict_values(['Tom', 20])\n",
      "dict_items([('name', 'Tom'), ('age', 20)])\n",
      "Tom\n"
     ]
    }
   ],
   "source": [
    "# 딕셔너리\n",
    "\n",
    "student = {\n",
    "    \"name\": \"Tom\", \n",
    "    \"age\": 20\n",
    "    }\n",
    "\n",
    "# student라는 딕셔너리에 있는 모든 키를 반환하는 메서드\n",
    "print(student.keys())\n",
    "\n",
    "# student라는 딕셔너리에 있는 모든 값를 반환하는 메서드\n",
    "print(student.values())\n",
    "\n",
    "# student라는 딕셔너리에 있는 모든 키와 값를 반환하는 메서드\n",
    "print(student.items())\n",
    "\n",
    "# student라는 딕셔너리에서 특정한 값을 반환하는 메서드\n",
    "print(student.get('name'))"
   ]
  },
  {
   "cell_type": "code",
   "execution_count": null,
   "id": "d454e0a5",
   "metadata": {},
   "outputs": [
    {
     "name": "stdout",
     "output_type": "stream",
     "text": [
      "{1, 2, 3, 4, 5}\n",
      "{1, 2, 3, 4, 5}\n",
      "{3}\n",
      "{1, 2}\n",
      "{4, 5}\n"
     ]
    }
   ],
   "source": [
    "# set (집합)\n",
    "# 중복 X\n",
    "# 순서대로\n",
    "\n",
    "s = {1, 2, 3, 5, 4, 5}\n",
    "print(s)\n",
    "\n",
    "a = {1, 2, 3}\n",
    "b = {3, 4, 5}\n",
    "print(a | b) # 합집합 12345\n",
    "print(a & b)  # 교집합 3\n",
    "print(a - b) # 1, 2\n",
    "print(b - a) # 4, 5"
   ]
  },
  {
   "cell_type": "code",
   "execution_count": null,
   "id": "c3db6421",
   "metadata": {},
   "outputs": [
    {
     "name": "stdout",
     "output_type": "stream",
     "text": [
      "None\n"
     ]
    }
   ],
   "source": [
    "# 리스트 []\n",
    "fruits = ['apple', 'banana', 'orange']\n",
    "print(fruits.insert(1, 'value'))\n",
    "\n",
    "# 튜플 ()\n",
    "# 딕셔너리 {key: value}\n",
    "# 세트 {}\n",
    "num_list_1 = {1, 2, 3}\n",
    "num_list_2 = {3, 4, 5}"
   ]
  }
 ],
 "metadata": {
  "kernelspec": {
   "display_name": "practice",
   "language": "python",
   "name": "python3"
  },
  "language_info": {
   "codemirror_mode": {
    "name": "ipython",
    "version": 3
   },
   "file_extension": ".py",
   "mimetype": "text/x-python",
   "name": "python",
   "nbconvert_exporter": "python",
   "pygments_lexer": "ipython3",
   "version": "3.13.2"
  }
 },
 "nbformat": 4,
 "nbformat_minor": 5
}
