{
 "cells": [
  {
   "cell_type": "code",
   "execution_count": null,
   "id": "f7e48a77",
   "metadata": {},
   "outputs": [
    {
     "name": "stdout",
     "output_type": "stream",
     "text": [
      "False\n",
      "True\n"
     ]
    }
   ],
   "source": [
    "# 튜플은 여러 값을 순서대로 저장하는 시퀀스 자료형입니다.\n",
    "# 리스트와 달리 값을 변경할 수 없습니다 (immutable)\n",
    "# 튜플은 () 소괄호를 사용하여 생성합니다.\n",
    "\n",
    "fruit_tuple = ('사과', '바나나', '멜론')\n",
    "print(fruit_tuple)  # ('사과', '바나나', '멜론')\n",
    "\n",
    "# 요소가 1개일 경우 반드시 쉼표를 붙여야 튜플로 인식됩니다.\n",
    "one_item = ('사과',)\n",
    "print(type(one_item))  # <class 'tuple'>\n",
    "\n",
    "# 튜플의 요소에 접근하기 (인덱싱)\n",
    "print(fruit_tuple[0])  # '사과'\n",
    "\n",
    "# 튜플 슬라이싱\n",
    "print(fruit_tuple[1:])  # ('바나나', '멜론')\n",
    "\n",
    "# 튜플의 길이 확인\n",
    "print(len(fruit_tuple))  # 3\n",
    "\n",
    "# 특정 값이 튜플에 포함되어 있는지 확인 (in 연산자)\n",
    "print('사과' in fruit_tuple)  # True\n",
    "print('포도' in fruit_tuple)  # False\n",
    "\n",
    "# 튜플 언팩킹 (각 변수에 값 나누기)\n",
    "a, b, c = fruit_tuple\n",
    "print(a)  # '사과'\n",
    "print(b)  # '바나나'\n",
    "print(c)  # '멜론'\n",
    "\n",
    "# 튜플은 불변이라 수정 불가능 (다음 코드는 오류 발생)\n",
    "# fruit_tuple[0] = '포도'  # TypeError\n"
   ]
  }
 ],
 "metadata": {
  "kernelspec": {
   "display_name": "practice",
   "language": "python",
   "name": "python3"
  },
  "language_info": {
   "codemirror_mode": {
    "name": "ipython",
    "version": 3
   },
   "file_extension": ".py",
   "mimetype": "text/x-python",
   "name": "python",
   "nbconvert_exporter": "python",
   "pygments_lexer": "ipython3",
   "version": "3.13.2"
  }
 },
 "nbformat": 4,
 "nbformat_minor": 5
}
