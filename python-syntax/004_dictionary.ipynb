{
 "cells": [
  {
   "cell_type": "code",
   "execution_count": null,
   "id": "5dbbc8d4",
   "metadata": {},
   "outputs": [],
   "source": [
    "# 딕셔너리는 키(key)와 값(value)의 쌍으로 데이터를 저장하는 자료형입니다.\n",
    "# 중괄호 {}를 사용하고, 각 항목은 '키:값' 형식으로 저장합니다.\n",
    "\n",
    "fruit_dict = {'사과': 3, '바나나': 5, '멜론': 2}\n",
    "print(fruit_dict)  # {'사과': 3, '바나나': 5, '멜론': 2}\n",
    "\n",
    "# 딕셔너리에 새로운 키-값 쌍 추가하기\n",
    "fruit_dict['포도'] = 4\n",
    "print(fruit_dict)  # {'사과': 3, '바나나': 5, '멜론': 2, '포도': 4}\n",
    "\n",
    "# 딕셔너리에서 특정 키의 값 수정하기\n",
    "fruit_dict['사과'] = 10\n",
    "print(fruit_dict)  # {'사과': 10, '바나나': 5, '멜론': 2, '포도': 4}\n",
    "\n",
    "# 특정 키의 값 가져오기\n",
    "print(fruit_dict['바나나'])  # 5\n",
    "\n",
    "# get() 메서드 사용: 키가 없을 경우 기본값 반환 가능\n",
    "print(fruit_dict.get('딸기'))  # None\n",
    "print(fruit_dict.get('딸기', 0))  # 0\n",
    "\n",
    "# keys(), values(), items() 메서드\n",
    "print(fruit_dict.keys())    # dict_keys(['사과', '바나나', '멜론', '포도'])\n",
    "print(fruit_dict.values())  # dict_values([10, 5, 2, 4])\n",
    "print(fruit_dict.items())   # dict_items([('사과', 10), ('바나나', 5), ('멜론', 2), ('포도', 4)])\n",
    "\n",
    "# 특정 키 삭제: del 사용\n",
    "del fruit_dict['멜론']\n",
    "print(fruit_dict)  # {'사과': 10, '바나나': 5, '포도': 4}\n",
    "\n",
    "# 키 존재 여부 확인 (in 연산자)\n",
    "print('사과' in fruit_dict)  # True\n",
    "print('딸기' in fruit_dict)  # False\n",
    "\n",
    "# 전체 딕셔너리 요소 개수 확인\n",
    "print(len(fruit_dict))  # 3"
   ]
  }
 ],
 "metadata": {
  "kernelspec": {
   "display_name": "practice",
   "language": "python",
   "name": "python3"
  },
  "language_info": {
   "name": "python",
   "version": "3.13.2"
  }
 },
 "nbformat": 4,
 "nbformat_minor": 5
}
