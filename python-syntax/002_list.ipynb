{
 "cells": [
  {
   "cell_type": "code",
   "execution_count": 1,
   "id": "38db8ba7",
   "metadata": {},
   "outputs": [
    {
     "name": "stdout",
     "output_type": "stream",
     "text": [
      "['사과', '바나나', '멜론']\n",
      "['사과', '바나나', '멜론', '포도']\n",
      "['망고', '사과', '바나나', '멜론', '포도']\n",
      "['망고', '바나나', '멜론', '포도']\n",
      "['망고', '바나나', '멜론']\n",
      "망고\n",
      "['망고', '수박', '멜론']\n"
     ]
    }
   ],
   "source": [
    "# 리스트 : 여러 개의 값들을 순서대로 저장할 수 있는 시퀀스입니다.\n",
    "# 리스트는 [] 대괄호를 통해 묶습니다.\n",
    "# 시퀀스 : 순서 있는 값들의 집합입니다.\n",
    "\n",
    "# str_list에 리스트로 사과, 바나나, 멜론을 넣고 싶다.\n",
    "str_list = ['사과', '바나나', '멜론']\n",
    "print(str_list)\n",
    "\n",
    "# 주요 사용 방법\n",
    "# append() : 리스트 맨 뒤에 요소 추가\n",
    "str_list.append('포도')\n",
    "print(str_list) # ['사과', '바나나', '멜론', '포도']\n",
    "\n",
    "# insert() : 지정 인덱스(시퀀스의 순서)에 요소 추가\n",
    "# insert(인덱스, 요소)\n",
    "str_list.insert(0, '망고')\n",
    "print(str_list) # ['망고', '사과', '바나나', '멜론', '포도']\n",
    "\n",
    "# remove() : 지정된 요소 삭제\n",
    "str_list.remove('사과')\n",
    "print(str_list) # ['망고', '바나나', '멜론', '포도']\n",
    "\n",
    "# pop() : 맨 뒤 요소 삭제\n",
    "str_list.pop()\n",
    "print(str_list) # ['망고', '바나나', '멜론']\n",
    "\n",
    "# 리스트의 요소에 접근하기\n",
    "print(str_list[0])  # '망고'\n",
    "\n",
    "# 리스트의 요소 수정하기\n",
    "str_list[1] = '수박'\n",
    "print(str_list) # ['망고', '수박', '멜론']"
   ]
  }
 ],
 "metadata": {
  "kernelspec": {
   "display_name": "practice",
   "language": "python",
   "name": "python3"
  },
  "language_info": {
   "codemirror_mode": {
    "name": "ipython",
    "version": 3
   },
   "file_extension": ".py",
   "mimetype": "text/x-python",
   "name": "python",
   "nbconvert_exporter": "python",
   "pygments_lexer": "ipython3",
   "version": "3.13.2"
  }
 },
 "nbformat": 4,
 "nbformat_minor": 5
}
