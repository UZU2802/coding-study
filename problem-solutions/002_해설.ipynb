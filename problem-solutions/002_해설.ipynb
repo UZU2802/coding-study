{
 "cells": [
  {
   "cell_type": "code",
   "execution_count": null,
   "id": "675b94d4",
   "metadata": {},
   "outputs": [],
   "source": [
    "# 1-1. 숫자 범위 내에서 짝수 출력하기\n",
    "\n",
    "# for문 + if문\n",
    "\n",
    "# for문 + range()\n",
    "\n",
    "# while문\n"
   ]
  },
  {
   "cell_type": "code",
   "execution_count": null,
   "id": "b17f8dc9",
   "metadata": {},
   "outputs": [],
   "source": [
    "# 1-2. 대소문자 변환기\n",
    "\n",
    "# for문 + islower() / isupper()\n",
    "\n",
    "# swapcase()\n",
    "\n",
    "# enumerate()\n"
   ]
  },
  {
   "cell_type": "code",
   "execution_count": null,
   "id": "fef3e752",
   "metadata": {},
   "outputs": [],
   "source": [
    "# 2-1. 숫자 맞추기 게임\n",
    "\n",
    "# 고정 숫자 사용 (while True)\n",
    "\n",
    "# 랜덤 숫자 생성 (random.randint)\n",
    "\n",
    "# 함수로 구현\n",
    "\n",
    "# try-except로 예외 처리 포함\n"
   ]
  },
  {
   "cell_type": "code",
   "execution_count": null,
   "id": "dcde2e3e",
   "metadata": {},
   "outputs": [],
   "source": [
    "# 2-2. 정수 리스트 평균 구하기\n",
    "\n",
    "# for문 + 누적 합\n",
    "\n",
    "# 리스트에 저장하고 sum()\n",
    "\n",
    "# 함수로 구현\n"
   ]
  }
 ],
 "metadata": {
  "kernelspec": {
   "display_name": "practice",
   "language": "python",
   "name": "python3"
  },
  "language_info": {
   "name": "python",
   "version": "3.13.2"
  }
 },
 "nbformat": 4,
 "nbformat_minor": 5
}
