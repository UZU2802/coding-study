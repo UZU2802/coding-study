{
 "cells": [
  {
   "cell_type": "code",
   "execution_count": 2,
   "id": "419673f7",
   "metadata": {},
   "outputs": [
    {
     "name": "stdout",
     "output_type": "stream",
     "text": [
      "2 4 6 8 10 12 14 16 18 20 22 24 26 28 30 "
     ]
    }
   ],
   "source": [
    "# 숫자 범위 내에서 짝수 출력하기\n",
    "n = int(input('숫자를 입력하세요: '))\n",
    "for i in range(1, n + 1):\n",
    "    if i % 2 == 0:\n",
    "        print(i, end=' ')"
   ]
  },
  {
   "cell_type": "code",
   "execution_count": 3,
   "id": "e8ddb3f8",
   "metadata": {},
   "outputs": [
    {
     "name": "stdout",
     "output_type": "stream",
     "text": [
      "변환 결과: hELLO pYtHoN\n"
     ]
    }
   ],
   "source": [
    "# 대소문자 변환기\n",
    "text = input('문자열을 입력하세요: ')\n",
    "result = ''\n",
    "\n",
    "for char in text:\n",
    "    if char.isupper():\n",
    "        result += char.lower()\n",
    "    elif char.islower():\n",
    "        result += char.upper()\n",
    "    else:\n",
    "        result += char\n",
    "\n",
    "print(f\"변환 결과: {result}\")"
   ]
  },
  {
   "cell_type": "code",
   "execution_count": 4,
   "id": "36396abb",
   "metadata": {},
   "outputs": [
    {
     "name": "stdout",
     "output_type": "stream",
     "text": [
      "힌트: 더 작은 수입니다.\n",
      "힌트: 더 큰 수입니다.\n",
      "정답입니다!\n"
     ]
    }
   ],
   "source": [
    "# 숫자 맞추기 게임\n",
    "answer = 7 \n",
    "while True:\n",
    "    guess = int(input(\"숫자를 맞춰보세요 (1~10): \"))\n",
    "    if guess == answer:\n",
    "        print(\"정답입니다!\")\n",
    "        break\n",
    "    elif guess < answer:\n",
    "        print(\"힌트: 더 큰 수입니다.\")\n",
    "    else:\n",
    "        print(\"힌트: 더 작은 수입니다.\")\n"
   ]
  },
  {
   "cell_type": "code",
   "execution_count": 5,
   "id": "72221571",
   "metadata": {},
   "outputs": [
    {
     "name": "stdout",
     "output_type": "stream",
     "text": [
      "평균은 25.0입니다.\n"
     ]
    }
   ],
   "source": [
    "# 정수 리스트 평균 구하기 (입력 개수 미리 지정)\n",
    "count = int(input(\"몇 개의 숫자를 입력하시겠습니까? \"))\n",
    "total = 0\n",
    "\n",
    "for i in range(1, count + 1):\n",
    "    num = int(input(f\"숫자 {i}: \"))\n",
    "    total += num\n",
    "\n",
    "average = total / count\n",
    "print(f\"평균은 {average}입니다.\")"
   ]
  }
 ],
 "metadata": {
  "kernelspec": {
   "display_name": "practice",
   "language": "python",
   "name": "python3"
  },
  "language_info": {
   "codemirror_mode": {
    "name": "ipython",
    "version": 3
   },
   "file_extension": ".py",
   "mimetype": "text/x-python",
   "name": "python",
   "nbconvert_exporter": "python",
   "pygments_lexer": "ipython3",
   "version": "3.13.2"
  }
 },
 "nbformat": 4,
 "nbformat_minor": 5
}
