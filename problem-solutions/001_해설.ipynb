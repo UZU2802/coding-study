{
 "cells": [
  {
   "cell_type": "code",
   "execution_count": null,
   "id": "14194279",
   "metadata": {},
   "outputs": [
    {
     "name": "stdout",
     "output_type": "stream",
     "text": [
      "안녕하세요. 저는 제주에 사는 22살 유주입니다.\n",
      "안녕하세요. 저는 제주에 사는 22살 유주입니다.\n"
     ]
    }
   ],
   "source": [
    "# 1-1. 자기소개 출력기\n",
    "# 이름, 나이, 사는 도시를 입력 받아 아래 형식으로 출력하는 프로그램을 작성하세요.\n",
    "\n",
    "# 이름을 입력하세요: 민수  \n",
    "# 나이를 입력하세요: 22  \n",
    "# 사는 도시를 입력하세요: 서울  \n",
    "# 안녕하세요. 저는 서울에 사는 22살 민수입니다.\n",
    "\n",
    "name = input('이름을 입력하세요: ')\n",
    "age = int(input('나이를 입력하세요: '))\n",
    "city = input('사는 도시를 입력하세요: ')\n",
    "\n",
    "# f-string\n",
    "# 우리가 읽기에 편함 = 장점\n",
    "# 다양한 데이터 타입을 혼합 출력할 때 유용합니다. \n",
    "# python 3.6 미만의 버전에서는 사용 불가합니다. \n",
    "# 다른 라이브러리들 혼합해서 사용할 때 버전이 중요해요\n",
    "print(f\"안녕하세요. 저는 {city}에 사는 {age}살 {name}입니다.\")\n",
    "\n",
    "# format()\n",
    "# python 3.0 이상부터는 계속 다 사용 가능\n",
    "# 변수 순서 헷갈리는 사람도 있을 거고\n",
    "# 여기서 변수 많이 사용하게 되면, 가독성 떨어지겠죠??\n",
    "print(\"안녕하세요. 저는 {}에 사는 {}살 {}입니다.\".format(city, age, name))"
   ]
  },
  {
   "cell_type": "code",
   "execution_count": null,
   "id": "b72174aa",
   "metadata": {},
   "outputs": [
    {
     "name": "stdout",
     "output_type": "stream",
     "text": [
      "\n",
      "\n",
      "\n"
     ]
    }
   ],
   "source": [
    "# 1-2. 단어 거꾸로 출력기\n",
    "# 단어 하나를 입력 받아, 거꾸로 뒤집어 출력하는 프로그램을 작성하세요.\n",
    "\n",
    "# 단어를 입력하세요: hello  \n",
    "# 거꾸로 출력: olleh\n",
    "\n",
    "word = input(\"단어를 입력하세요: \")\n",
    "\n",
    "# 슬라이싱 [::-1] = 웬만하면 이거 쓰는 게 편하긴 함\n",
    "reversed_word = word[::-1]\n",
    "print(reversed_word)\n",
    "\n",
    "# reversed() + join()\n",
    "# 연습용~~\n",
    "reversed_word = ''.join(reversed(word))\n",
    "print(reversed_word)"
   ]
  },
  {
   "cell_type": "code",
   "execution_count": null,
   "id": "905e2320",
   "metadata": {},
   "outputs": [],
   "source": [
    "# 2-1. 특정 문자 개수 세기\n",
    "# 문자열을 입력 받아, 특정 문자가 몇 번 나왔는지 세어 출력하는 프로그램을 작성하세요.\n",
    "\n",
    "# 문자열을 입력하세요: hello python  \n",
    "# 세고 싶은 문자를 입력하세요: o  \n",
    "# 문자 o는 2번 나왔습니다.\n",
    "\n",
    "greet = input(\"문자열을 입력하세요: \")\n",
    "char = input(\"세고 싶은 문자를 입력하세요: \")\n",
    "\n",
    "# count()\n",
    "count_greet = greet.count(char)\n",
    "print(count_greet)\n",
    "\n",
    "# 반복문 : 요한이가 쓴 거임\n",
    "text=input(\"문자열 입력\")\n",
    "wanted_spell=input(\"세고싶은 문자 입력\")\n",
    "count=0\n",
    "\n",
    "# 1번 돌아갈 때 마다 문자가 c에 들어가게 됩니다.\n",
    "for c in text:\n",
    "    if c == wanted_spell:\n",
    "        count += 1\n",
    "\n",
    "print(f\"세고싶은 문자는{count}번 나왔습니다.\")"
   ]
  },
  {
   "cell_type": "code",
   "execution_count": null,
   "id": "8f29bc51",
   "metadata": {},
   "outputs": [
    {
     "name": "stdout",
     "output_type": "stream",
     "text": [
      "비밀번호가 일치하지 않습니다.\n"
     ]
    }
   ],
   "source": [
    "# 2-2. 비밀번호 확인 프로그램\n",
    "# 비밀번호를 두 번 입력 받아, 두 값이 일치하는지 확인하는 프로그램을 작성하세요.\n",
    "# 같으면 : “비밀번호가 일치합니다.”\n",
    "# 다르면 : “비밀번호가 일치하지 않습니다.”\n",
    "\n",
    "# 비밀번호를 입력하세요: python123  \n",
    "# 비밀번호를 다시 입력하세요: python123  \n",
    "# 비밀번호가 일치합니다.\n",
    "\n",
    "pw1 = input('비밀번호를 입력하세요: ')\n",
    "pw2 = input('비밀번호를 다시 입력하세요: ')\n",
    "\n",
    "if pw1 == pw2:\n",
    "    print('비밀번호가 일치합니다.')\n",
    "else:\n",
    "    print('비밀번호가 일치하지 않습니다.')"
   ]
  }
 ],
 "metadata": {
  "kernelspec": {
   "display_name": "practice",
   "language": "python",
   "name": "python3"
  },
  "language_info": {
   "codemirror_mode": {
    "name": "ipython",
    "version": 3
   },
   "file_extension": ".py",
   "mimetype": "text/x-python",
   "name": "python",
   "nbconvert_exporter": "python",
   "pygments_lexer": "ipython3",
   "version": "3.13.2"
  }
 },
 "nbformat": 4,
 "nbformat_minor": 5
}
