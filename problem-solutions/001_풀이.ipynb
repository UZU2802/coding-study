{
 "cells": [
  {
   "cell_type": "code",
   "execution_count": 1,
   "id": "2a0a5fe9",
   "metadata": {},
   "outputs": [
    {
     "name": "stdout",
     "output_type": "stream",
     "text": [
      "안녕하세요. 저는 제주에 사는 22살 유주입니다.\n"
     ]
    }
   ],
   "source": [
    "# 자기소개 출력기\n",
    "name = input('이름을 입력하세요: ')\n",
    "age = int(input('나이를 입력하세요: '))\n",
    "city = input('사는 도시를 입력하세요: ')\n",
    "print(f\"안녕하세요. 저는 {city}에 사는 {age}살 {name}입니다.\")"
   ]
  },
  {
   "cell_type": "code",
   "execution_count": 2,
   "id": "d168252f",
   "metadata": {},
   "outputs": [
    {
     "name": "stdout",
     "output_type": "stream",
     "text": [
      "거꾸로 출력: nohtyp\n"
     ]
    }
   ],
   "source": [
    "# 단어 거꾸로 출력기\n",
    "word = input(\"단어를 입력하세요: \")\n",
    "reversed_word = word[::-1]\n",
    "print(\"거꾸로 출력:\", reversed_word)"
   ]
  },
  {
   "cell_type": "code",
   "execution_count": 3,
   "id": "9073c8b6",
   "metadata": {},
   "outputs": [
    {
     "name": "stdout",
     "output_type": "stream",
     "text": [
      "문자 o은 2번 나왔습니다.\n"
     ]
    }
   ],
   "source": [
    "# 특정 문자 개수 세기\n",
    "greet = input(\"문자열을 입력하세요: \")\n",
    "char = input(\"세고 싶은 문자를 입력하세요: \")\n",
    "count = greet.count(char)\n",
    "print(f\"문자 {char}은 {count}번 나왔습니다.\")"
   ]
  },
  {
   "cell_type": "code",
   "execution_count": 4,
   "id": "9ab77abe",
   "metadata": {},
   "outputs": [
    {
     "name": "stdout",
     "output_type": "stream",
     "text": [
      "비밀번호가 일치합니다.\n"
     ]
    }
   ],
   "source": [
    "# 비밀번호 확인 프로그램\n",
    "pw1 = input('비밀번호를 입력하세요: ')\n",
    "pw2 = input('비밀번호를 다시 입력하세요: ')\n",
    "if pw1 == pw2:\n",
    "    print('비밀번호가 일치합니다.')\n",
    "else:\n",
    "    print('비밀번호가 일치하지 않습니다.')"
   ]
  }
 ],
 "metadata": {
  "kernelspec": {
   "display_name": "practice",
   "language": "python",
   "name": "python3"
  },
  "language_info": {
   "codemirror_mode": {
    "name": "ipython",
    "version": 3
   },
   "file_extension": ".py",
   "mimetype": "text/x-python",
   "name": "python",
   "nbconvert_exporter": "python",
   "pygments_lexer": "ipython3",
   "version": "3.13.2"
  }
 },
 "nbformat": 4,
 "nbformat_minor": 5
}
